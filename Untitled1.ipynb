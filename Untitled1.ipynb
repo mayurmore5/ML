{
 "cells": [
  {
   "cell_type": "code",
   "execution_count": 3,
   "id": "7357f4e8-36b1-458d-bb23-b3cc7d41dc75",
   "metadata": {},
   "outputs": [],
   "source": [
    "import pandas as pd\n",
    "import numpy as np"
   ]
  },
  {
   "cell_type": "code",
   "execution_count": 5,
   "id": "e5aa2514-f4a6-452b-8b29-f96950ebee94",
   "metadata": {},
   "outputs": [
    {
     "name": "stdout",
     "output_type": "stream",
     "text": [
      "0    Mayur\n",
      "1       20\n",
      "2        M\n",
      "3     9.21\n",
      "dtype: object\n"
     ]
    }
   ],
   "source": [
    "data=['Mayur',20,'M',9.21]\n",
    "s=pd.Series(data)\n",
    "print(s)"
   ]
  },
  {
   "cell_type": "code",
   "execution_count": 7,
   "id": "18267335-3a81-4f74-b808-eb68f51ddf87",
   "metadata": {},
   "outputs": [],
   "source": [
    "s1=pd.Series(np.random.random(5))\n",
    "s2=pd.Series(np.random.random(5))"
   ]
  },
  {
   "cell_type": "code",
   "execution_count": 13,
   "id": "4a315e26-4e8c-47f4-90c9-5f0ae3980688",
   "metadata": {},
   "outputs": [
    {
     "data": {
      "text/html": [
       "<div>\n",
       "<style scoped>\n",
       "    .dataframe tbody tr th:only-of-type {\n",
       "        vertical-align: middle;\n",
       "    }\n",
       "\n",
       "    .dataframe tbody tr th {\n",
       "        vertical-align: top;\n",
       "    }\n",
       "\n",
       "    .dataframe thead th {\n",
       "        text-align: right;\n",
       "    }\n",
       "</style>\n",
       "<table border=\"1\" class=\"dataframe\">\n",
       "  <thead>\n",
       "    <tr style=\"text-align: right;\">\n",
       "      <th></th>\n",
       "      <th>0</th>\n",
       "      <th>1</th>\n",
       "      <th>2</th>\n",
       "      <th>3</th>\n",
       "      <th>4</th>\n",
       "    </tr>\n",
       "  </thead>\n",
       "  <tbody>\n",
       "    <tr>\n",
       "      <th>0</th>\n",
       "      <td>0.544112</td>\n",
       "      <td>0.799868</td>\n",
       "      <td>0.879589</td>\n",
       "      <td>0.723474</td>\n",
       "      <td>0.417081</td>\n",
       "    </tr>\n",
       "    <tr>\n",
       "      <th>1</th>\n",
       "      <td>0.683294</td>\n",
       "      <td>0.787181</td>\n",
       "      <td>0.516393</td>\n",
       "      <td>0.750913</td>\n",
       "      <td>0.296837</td>\n",
       "    </tr>\n",
       "  </tbody>\n",
       "</table>\n",
       "</div>"
      ],
      "text/plain": [
       "          0         1         2         3         4\n",
       "0  0.544112  0.799868  0.879589  0.723474  0.417081\n",
       "1  0.683294  0.787181  0.516393  0.750913  0.296837"
      ]
     },
     "execution_count": 13,
     "metadata": {},
     "output_type": "execute_result"
    }
   ],
   "source": [
    "pd.DataFrame([s1,s2])"
   ]
  },
  {
   "cell_type": "code",
   "execution_count": null,
   "id": "e67fd7f1-c68e-4dca-8511-ceddcad180ea",
   "metadata": {},
   "outputs": [],
   "source": []
  }
 ],
 "metadata": {
  "kernelspec": {
   "display_name": "Python 3 (ipykernel)",
   "language": "python",
   "name": "python3"
  },
  "language_info": {
   "codemirror_mode": {
    "name": "ipython",
    "version": 3
   },
   "file_extension": ".py",
   "mimetype": "text/x-python",
   "name": "python",
   "nbconvert_exporter": "python",
   "pygments_lexer": "ipython3",
   "version": "3.11.7"
  }
 },
 "nbformat": 4,
 "nbformat_minor": 5
}
